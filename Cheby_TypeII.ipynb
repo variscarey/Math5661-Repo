{
 "cells": [
  {
   "cell_type": "markdown",
   "metadata": {},
   "source": [
    "We were trying to prove that \n",
    "$$\n",
    "I=\\int_{-1}^{1} U_n(x)\\text{sign}(U_m(x)) \\; dx =0, \\quad 0\\leq n < m.\n",
    "$$\n",
    "\n",
    "We had directly computed the integral by using the definiton of $U_n(x)=\\sin(n+1)(\\theta)/\\sin(\\theta)$ and trig. substitution to arrive at\n",
    "$$\n",
    "I=(n+1)^{-1}\\sum_{k=0}^m (-1)^{k+1}[\\cos(n+1)(k+1)\\phi - \\cos(n+1)k\\phi, \\quad \\phi= \\frac{\\pi}{m+1}\n",
    "$$\n",
    "Letting $\\alpha=(n+1)\\phi + \\pi$ yields that \n",
    "$$\n",
    "(n+1)I=\\text{Re}(\\sum_{k=0}^m [e^{i\\alpha(k+1)}+e^{i\\alpha k}]\n",
    "$$\n",
    "Note that my earlier derivation had a sign error above, which gave us cancellation in terms.\n",
    "Using the sum of geometric series formulas yields\n",
    "$$\n",
    "\\text{Re}\\left( \\frac{e^{i\\alpha(m+2)}-e^{i\\alpha} + e^{i\\alpha m} - 1}{e^{i\\alpha -1}} \\right)\n",
    "$$\n",
    "Multiplying the top and bottom by the complex conjugate yields:\n",
    "$$\n",
    "\\text{Re}\\left( \\frac{(e^{-i\\alpha}-1)(e^{i\\alpha(m+2)}-e^{i\\alpha} + e^{i\\alpha m} - 1)}{|e^{i\\alpha -1}|^2} \\right)"
   ]
  },
  {
   "cell_type": "markdown",
   "metadata": {},
   "source": [
    "Expanding and simplifying yields(according to text, **check!**) a\n",
    "numerator of \n",
    "$$\n",
    "\\text{Re}(e^{i\\alpha m}-e^{i\\alpha(m+2)})\n",
    "$$\n",
    "which simplifies to \n",
    "$$\n",
    "\\cos[(m+1)\\alpha - \\alpha] - \\cos[(m+1)\\alpha + \\alpha] \n",
    "$$\n",
    "plugging in for $\\alpha$ and $\\phi$ yields\n",
    "$$\n",
    "\\cos(k\\pi - \\alpha) - \\cos(k\\pi + \\alpha) = 0\n",
    "$$\n",
    "by the periodicity of the cosine function.(Also using $k=m+n+2$).\n"
   ]
  },
  {
   "cell_type": "code",
   "execution_count": null,
   "metadata": {
    "collapsed": true
   },
   "outputs": [],
   "source": []
  }
 ],
 "metadata": {
  "kernelspec": {
   "display_name": "Python [conda root]",
   "language": "python",
   "name": "conda-root-py"
  },
  "language_info": {
   "codemirror_mode": {
    "name": "ipython",
    "version": 3
   },
   "file_extension": ".py",
   "mimetype": "text/x-python",
   "name": "python",
   "nbconvert_exporter": "python",
   "pygments_lexer": "ipython3",
   "version": "3.6.1"
  }
 },
 "nbformat": 4,
 "nbformat_minor": 2
}
