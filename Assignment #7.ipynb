{
 "cells": [
  {
   "cell_type": "markdown",
   "metadata": {},
   "source": [
    "## Assignment 7\n",
    "\n",
    "### 1.  Condition number of finite difference solutions of 2pt BVP.\n",
    "\n",
    "$ Let -u^{\\prime\\prime}=f(x)$, $u(0)=u(1)=1$ be solved via finite difference methods with $n$ internal grid points with $uniform$ mesh\n",
    "spacing.  This simplifies to a matrix problem $Au=h^2 f$, where $u$ is the solution vector and $f=f(x_i)$, where $x_i$ are the internal grid points.\n",
    "\n",
    "* What is the condition number of this matrix as a function of $n$?\n",
    "* What is the accuracy of the finite difference approximation (as a maximum of the error at the grid points) as a function of $n$?\n",
    "* Assuming the derivatives of $f$ are bounded, write down a constraint when roundoff error starts to diminish the accuracy of the finite difference solution.\n",
    "\n",
    "### 2. Richard Extrapolation for Finite Difference Methods.\n",
    "\n",
    "Write a code to apply Richardson Extrapolation to the 2pt BVP problem above.  Demonstrate it an appropriate test function.  Avoid picking a polynomial $f(x)$.\n",
    "\n",
    "1. Be careful.  Work out the relationship between $u_1(h)$ and $u_2(h/2)$.\n",
    "2. The finite difference solution for $u_1(h)$ is not definted at all points that $u_2(h/2)$ is defined.  What is a reasonable way to define u_1(h/2)?\n",
    "\n"
   ]
  }
 ],
 "metadata": {
  "kernelspec": {
   "display_name": "Python [conda root]",
   "language": "python",
   "name": "conda-root-py"
  },
  "language_info": {
   "codemirror_mode": {
    "name": "ipython",
    "version": 3
   },
   "file_extension": ".py",
   "mimetype": "text/x-python",
   "name": "python",
   "nbconvert_exporter": "python",
   "pygments_lexer": "ipython3",
   "version": "3.6.1"
  }
 },
 "nbformat": 4,
 "nbformat_minor": 2
}
