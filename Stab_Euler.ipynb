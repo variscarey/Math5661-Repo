{
 "cells": [
  {
   "cell_type": "markdown",
   "metadata": {},
   "source": [
    "# Stability of Time Integrators\n",
    "\n",
    "## Part I: Forward & Backward Euler\n",
    "\n",
    "We've seen that for a linear system, $x^\\prime=Ax$, $x(t_0)=x_0$,\n",
    "we get solutions of the form $x(t)=x_0 e^{At}$.  \n",
    "\n",
    "For simplicity, we assume that $A$ is diagonalizable. If not, we would have to work with the Jordan Form (and basis) for $A$, which would complicate the presentation but not impact the stability analysis in a meaningful way.  Since it's diagonalizable, there is a basis of eigenvectors $v_i$ of $A$ with (possibly complex) eigenvalues $\\lambda_i$.  \n",
    "\n",
    "We can write $A=VDV^{-1}$ so $\\text{exp}(A) = V \\text{exp}(D) V^{-1}$,\n",
    "where $D$ is the matrix of eigenvalues of $D$.  Therefore to examine the stability of a numerical method, we need to simply look at the stability of the **scalar** equation $y^\\prime=\\lambda y$.  Of particular concern is the stability with respect to $\\lambda$ values that have a non-positive real part-these corresponds to orbits($\\lambda=0$) or decay to the origin $\\lambda < 0$.  Of course, having **numerical** solutions that decay to the origin when the origin is unstable is also not desired and is an additional consideration.\n",
    "\n",
    "With a fixed timestep $\\Delta t$, forward Euler (RK1) is:\n",
    "$$\n",
    "y_{n+1}=(1+\\Delta t \\lambda)y_n\n",
    "$$\n",
    "For **stable** fixed points, we need $|y_{n+1}/y_{n}| \\leq 1$, to **mimic** the behaviour of the true solution to the ODE; thus we\n",
    "need $|1+\\Delta t \\lambda|\\leq 1$ for values in the non-positive \n",
    "real part of the complex plane.  \n",
    "\n",
    "We plot the stability region (yes it's also easy to solve for analytically) below.  The plot variable is $z=\\Delta t \\lambda$ and the shaded area is the stable region.\n",
    "\n",
    "\n",
    "\n",
    "\n",
    "\n"
   ]
  },
  {
   "cell_type": "code",
   "execution_count": 7,
   "metadata": {
    "scrolled": true
   },
   "outputs": [
    {
     "data": {
      "image/png": "[encoded data removed]",
      "text/plain": [
       "<matplotlib.figure.Figure at 0x117c900b8>"
      ]
     },
     "metadata": {},
     "output_type": "display_data"
    }
   ],
   "source": [
    "import numpy as np\n",
    "import matplotlib.pyplot as plt\n",
    "#from mpl_toolkits.mplot3d import Axes3D\n",
    "fig = plt.figure()\n",
    "#ax = fig.add_subplot(111, projection='3d')\n",
    "\n",
    "\n",
    "r=np.linspace(-3,3,1000)\n",
    "rp,ip=np.meshgrid(r,r)\n",
    "temp=(1+rp)**2 + ip**2\n",
    "plt.contourf(rp,ip,(temp<=1)*(1-temp))\n",
    "plt.axis('equal')\n",
    "\n",
    "plt.show()\n",
    "\n",
    "\n",
    "\n",
    "\n"
   ]
  },
  {
   "cell_type": "markdown",
   "metadata": {},
   "source": [
    "This *disc* in the complex plane is simply $|1+z|\\leq 1$, so the forward Euler method is stable for real-valued (negative) lambda for timesteps where $\\Delta t \\leq |\\lambda|^{-1}$.  Thus, if $\\lambda$ is a large negative value, we have to take **very** small timesteps to stay stable.\n",
    "\n",
    "The second point is that for \"orbital\" problems(pure imaginary eigenvalues),  there is no stable timestep (as we need $z=0$, so if $\\lambda = ci$ we will need $\\Delta t\\rightarrow 0$.  \n",
    "\n",
    "We saw this in the harmonic oscillator example, where the harmonic osciallator slowly gathered energy when integrated using forward Euler.  Decreasing the timestep will decrease the energy growth, but can never supress it.\n"
   ]
  },
  {
   "cell_type": "markdown",
   "metadata": {},
   "source": [
    "## Backward (Implicit Euler)\n",
    "\n",
    "Backward Euler has \n",
    "$$\n",
    "y_{n+1}=y_n + \\Delta t \\lambda y_{n+1},\n",
    "$$\n",
    "or\n",
    "$$\n",
    "y_{n+1}= \\frac{1}{1-\\lambda \\Delta t} y_n\n",
    "$$\n",
    "so to stable we need $|1-z|^{-1}\\leq 1$, which is true for all $z$ that we care about ($Re(z) < 0$).  \n",
    "\n",
    "\n",
    "\n",
    "Assuming a multistep ODE of the form \n",
    "$$\n",
    "a_{n+1}x_{n+1}-a_n x_n -a_{n-1} x_{n-1} + \\ldots a_{n-k}x_{n-k}=b_nf(x_n)+ b_{n-1}f(x_{n-1}+ \\ldots b_{n-k}f(x_{n-k})\n",
    "$$\n",
    "\n",
    "## Heun (RK2) method\n",
    "\n",
    "If we write it out for our scalar linear system, we have(remember that \n",
    "$f(y_n)=\\lambda y_n$\n",
    "\n",
    "so we have\n",
    "$$\n",
    "y_{n+1} = y_n + \\frac{\\Delta t}{2} \\lambda y_n + \\frac{\\Delta t}{2} \\lambda \\tilde{y}_n\n",
    "$$\n",
    "where\n",
    "$$\n",
    "\\tilde{y}_n = y_n + \\Delta t \\lambda y_n\n",
    "$$\n",
    "plugging in and  simplifying yields\n",
    "$$\n",
    "y_{n+1} = (1 + \\Delta t \\lambda + \\frac{1}{2}(\\Delta t \\lambda )^2) y_n\n",
    "$$ \n",
    "so for stability we will need\n",
    "$$\n",
    "|1+z+\\frac{1}{2}z^2| \\leq 1.\n",
    "$$\n",
    "\n"
   ]
  },
  {
   "cell_type": "code",
   "execution_count": 12,
   "metadata": {},
   "outputs": [
    {
     "data": {
      "image/png": "[encoded data removed]",
      "text/plain": [
       "<matplotlib.figure.Figure at 0x10a6d6710>"
      ]
     },
     "metadata": {},
     "output_type": "display_data"
    },
    {
     "name": "stdout",
     "output_type": "stream",
     "text": [
      "[[-3.         -2.99399399 -2.98798799 ...,  2.98798799  2.99399399  3.        ]\n",
      " [-3.         -2.99399399 -2.98798799 ...,  2.98798799  2.99399399  3.        ]\n",
      " [-3.         -2.99399399 -2.98798799 ...,  2.98798799  2.99399399  3.        ]\n",
      " ..., \n",
      " [-3.         -2.99399399 -2.98798799 ...,  2.98798799  2.99399399  3.        ]\n",
      " [-3.         -2.99399399 -2.98798799 ...,  2.98798799  2.99399399  3.        ]\n",
      " [-3.         -2.99399399 -2.98798799 ...,  2.98798799  2.99399399  3.        ]]\n"
     ]
    }
   ],
   "source": [
    "r=np.linspace(-3,3,1000)\n",
    "rp,ip=np.meshgrid(r,r)\n",
    "z=rp + 1j*ip\n",
    "        \n",
    "    \n",
    "    \n",
    "temp=np.absolute(1+z+.5*z**2)\n",
    "plt.contourf(rp,ip,(temp<=1)*(1-temp))\n",
    "plt.axis('equal')\n",
    "\n",
    "plt.show()"
   ]
  },
  {
   "cell_type": "markdown",
   "metadata": {},
   "source": [
    "Note that the stability region for real $z$ is still part of the real axis (we get $1+z+.5z^2=1$ and $1+z+.5z^2=-1$) as constraints.  The 2nd constraint as no real roots so we get $-2\\leq z \\leq 0$, just as with forward Euler.  \n",
    "\n",
    "But on the imaginary axis, we have $z=ci$,so\n",
    "$$ (1-.5c^2)^2 + c^2 \\leq 1 \\rightarrow (1+.25c^4) < 1\n",
    "$$\n",
    "which means that the imaginary axis is not stable for any timestep, but it is *much closer* to being stable for small $\\delta t$.  We \n",
    "show this for a harmonic oscillator example:\n",
    "$$\n",
    "x_1^\\prime=x_2; \\quad x_2^\\prime=-x_1, \\quad \\vec{x}(t=0)=[1,0]\n",
    "$$\n",
    "\n"
   ]
  },
  {
   "cell_type": "code",
   "execution_count": 44,
   "metadata": {
    "collapsed": true
   },
   "outputs": [],
   "source": [
    "import numpy as np\n",
    "import matplotlib.pyplot as plt\n",
    "%matplotlib inline\n",
    "#generic explicit RK interface\n",
    "\n",
    "#Butcher class object:\n",
    "\n",
    "class Butcher:\n",
    "    def __init__(self,A=np.array([0]),b=np.array([1]),c=np.array([0])): # constructor, butcher coefficients, default = FE.\n",
    "        self.A=A  #BUTCHER TABLE ENTRIES\n",
    "        self.b=b\n",
    "        self.c=c\n",
    "\n",
    "        #GENERIC RK STEP\n",
    "    def step(self,state,func,t,dt=.1):  #state=solution vector, func=rhs funciton\n",
    "        stages=np.zeros((self.b.size,state.size))\n",
    "        stages[0]=func(state,t)\n",
    "        #compute stages\n",
    "        for stage_count in range(1,self.b.size):\n",
    "            temp=np.copy(state)\n",
    "            for loop in range(stage_count):\n",
    "                temp+=dt*self.A[stage_count,loop]*stages[loop]\n",
    "            stages[stage_count]=func(temp,t+dt*self.c[stage_count])\n",
    "        #sum stages\n",
    "        new_state=state+dt*np.dot(self.b,stages)\n",
    "        return new_state"
   ]
  },
  {
   "cell_type": "code",
   "execution_count": 47,
   "metadata": {},
   "outputs": [
    {
     "name": "stdout",
     "output_type": "stream",
     "text": [
      "[ 0. -1.]\n"
     ]
    }
   ],
   "source": [
    "init=np.array([1.0,0])\n",
    "dt=.5\n",
    "t=0\n",
    "\n",
    "def rhs(x,t):\n",
    "    RHS_MAT=np.array([[0,1],[-1,0]])  # eigevalues of +- i\n",
    "    #RHS_MAT=np.array([[0,1],[-10,0]])\n",
    "    return np.dot(RHS_MAT,x)\n",
    "\n",
    "#test\n",
    "print(rhs(init,0))\n",
    "state=np.copy(init)\n",
    "state_heun=np.copy(init)"
   ]
  },
  {
   "cell_type": "code",
   "execution_count": 48,
   "metadata": {},
   "outputs": [
    {
     "name": "stdout",
     "output_type": "stream",
     "text": [
      "1\n"
     ]
    },
    {
     "data": {
      "image/png": "[encoded data removed]",
      "text/plain": [
       "<matplotlib.figure.Figure at 0x11c07d160>"
      ]
     },
     "metadata": {},
     "output_type": "display_data"
    }
   ],
   "source": [
    "#initialize RK0 \n",
    "rk1=Butcher() #forward euler\n",
    "#print(type(rk0.A))\n",
    "print((rk1.A).size)\n",
    "heun=Butcher(A=np.array([[0,0],[1,0]]),b=np.array([.5,.5]), c=np.array([0,1]))\n",
    "plt.figure()\n",
    "timestep=1E-1\n",
    "while t<500:\n",
    "    state=rk1.step(state,rhs,t,dt=timestep)\n",
    "    state_heun=heun.step(state_heun,rhs,t,dt=timestep)\n",
    "    plt.scatter(state[0],state[1],c='r',s=1)\n",
    "    #plt.scatter(state_heun[0],state_heun[1],c='g',s=.1)\n",
    "    t+=timestep\n",
    "plt.axis('equal')\n",
    "\n",
    "cir1=plt.Circle((0,0),1,fill=False,color='b')\n",
    "ax=plt.gca()\n",
    "ax.add_artist(cir1)\n",
    "plt.show()"
   ]
  },
  {
   "cell_type": "markdown",
   "metadata": {},
   "source": [
    "So here we have the slow growth of the solution away from the stable \n",
    "orbit $x_1^2+x_2^2=1$."
   ]
  },
  {
   "cell_type": "code",
   "execution_count": null,
   "metadata": {
    "collapsed": true
   },
   "outputs": [],
   "source": []
  }
 ],
 "metadata": {
  "kernelspec": {
   "display_name": "Python [conda root]",
   "language": "python",
   "name": "conda-root-py"
  },
  "language_info": {
   "codemirror_mode": {
    "name": "ipython",
    "version": 3
   },
   "file_extension": ".py",
   "mimetype": "text/x-python",
   "name": "python",
   "nbconvert_exporter": "python",
   "pygments_lexer": "ipython3",
   "version": "3.6.1"
  }
 },
 "nbformat": 4,
 "nbformat_minor": 2
}
