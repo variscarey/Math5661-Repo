{
 "cells": [
  {
   "cell_type": "markdown",
   "metadata": {},
   "source": [
    "The Lagrange interpolating polnomial through $n-s$ points $(t_n,y_n)$ is given by\n",
    "\n",
    "$$\n",
    "\\sum_{i=n-s}^n y_i \\mathcal{l}_i (t),\n",
    "$$\n",
    "\n",
    "where\n",
    "\n",
    "$$\n",
    "\\mathcal{l}_i(t)=\\prod_{j\\in\\{n-s,\\ldots,n\\},j\\neq i} \\frac{t-t_i}{t_j-t_i}.\n",
    "$$\n",
    "\n",
    "We construct $\\mathcal{l}_i(x)$ using **sympy** below."
   ]
  },
  {
   "cell_type": "code",
   "execution_count": 7,
   "metadata": {},
   "outputs": [
    {
     "name": "stdout",
     "output_type": "stream",
     "text": [
      "l_ 1 (t)= (t - t2)*(t - t3)/((t1 - t2)*(t1 - t3))\n",
      "l_ 2 (t)= (t - t1)*(t - t3)/((-t1 + t2)*(t2 - t3))\n",
      "l_ 3 (t)= (t - t1)*(t - t2)/((-t1 + t3)*(-t2 + t3))\n"
     ]
    }
   ],
   "source": [
    "import sympy as sp\n",
    "\n",
    "#we will let t_n equal t_s and fix t_s.  I will do this for\n",
    "#a 3 step method but this can be modified for a 7 step method.\n",
    "t,t3,t2,t1,h=sp.symbols('t t3 t2 t1 h')\n",
    "\n",
    "T=sp.Matrix([t1,t2,t3])\n",
    "l=sp.ones(3)\n",
    "for i in range(3):\n",
    "    for j in range(3):\n",
    "        if j != i:\n",
    "            l[i]*=(t-T[j])\n",
    "            l[i]/=(T[i]-T[j])\n",
    "#returns all 3 l polynomials\n",
    "for i in range(3):\n",
    "    print('l_',i+1,'(t)=',l[i])\n"
   ]
  },
  {
   "cell_type": "markdown",
   "metadata": {},
   "source": [
    "Since the points are equspaced, we know that $t_1=t_3-2h$ and $t_2=t_3-h$.  We substitue in these expressions and simplify.\n"
   ]
  },
  {
   "cell_type": "code",
   "execution_count": 8,
   "metadata": {},
   "outputs": [
    {
     "name": "stdout",
     "output_type": "stream",
     "text": [
      "l_ 1 (t)= (t - t3)*(h + t - t3)/(2*h**2)\n",
      "l_ 2 (t)= -(t - t3)*(2*h + t - t3)/h**2\n",
      "l_ 3 (t)= (h + t - t3)*(2*h + t - t3)/(2*h**2)\n"
     ]
    }
   ],
   "source": [
    "l=l.subs(t1,t3-2*h)\n",
    "l=l.subs(t2,t3-h)\n",
    "for i in range(3):\n",
    "    print('l_',i+1,'(t)=',l[i])\n"
   ]
  },
  {
   "cell_type": "markdown",
   "metadata": {},
   "source": [
    "We now *differentiate* the interpolating functions with respect to $t$:\n"
   ]
  },
  {
   "cell_type": "code",
   "execution_count": 9,
   "metadata": {},
   "outputs": [
    {
     "name": "stdout",
     "output_type": "stream",
     "text": [
      "Matrix([[(t - t3)/(2*h**2) + (h + t - t3)/(2*h**2), -(t - t3)/h**2 - (2*h + t - t3)/h**2, (h + t - t3)/(2*h**2) + (2*h + t - t3)/(2*h**2)], [0, 0, 0], [0, 0, 0]])\n"
     ]
    }
   ],
   "source": [
    "dl=sp.diff(l,t)"
   ]
  },
  {
   "cell_type": "markdown",
   "metadata": {},
   "source": [
    "And finally we substitute in $t=t3$ to evaluate the derivative at $(t_n)$.\n"
   ]
  },
  {
   "cell_type": "code",
   "execution_count": 10,
   "metadata": {},
   "outputs": [
    {
     "name": "stdout",
     "output_type": "stream",
     "text": [
      "dl_ 1 (t3)= 1/(2*h)\n",
      "dl_ 2 (t3)= -2/h\n",
      "dl_ 3 (t3)= 3/(2*h)\n"
     ]
    }
   ],
   "source": [
    "dl=dl.subs(t,t3)\n",
    "for i in range(3):\n",
    "    print('dl_',i+1,'(t3)=',dl[i])\n",
    "\n"
   ]
  },
  {
   "cell_type": "markdown",
   "metadata": {},
   "source": [
    "And thus we have our coefficients for BDF2.\n",
    "It shouldn't be too hard to modify this to do if for our prototype BDF7.\n"
   ]
  }
 ],
 "metadata": {
  "kernelspec": {
   "display_name": "Python [conda root]",
   "language": "python",
   "name": "conda-root-py"
  },
  "language_info": {
   "codemirror_mode": {
    "name": "ipython",
    "version": 3
   },
   "file_extension": ".py",
   "mimetype": "text/x-python",
   "name": "python",
   "nbconvert_exporter": "python",
   "pygments_lexer": "ipython3",
   "version": "3.6.1"
  }
 },
 "nbformat": 4,
 "nbformat_minor": 2
}
