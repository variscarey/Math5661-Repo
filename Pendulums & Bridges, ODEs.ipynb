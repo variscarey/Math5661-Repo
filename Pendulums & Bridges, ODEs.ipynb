{
 "cells": [
  {
   "cell_type": "code",
   "execution_count": 1,
   "metadata": {},
   "outputs": [],
   "source": [
    "import numpy as np\n",
    "import matplotlib.pyplot as plt\n",
    "%matplotlib inline\n",
    "#generic explicit RK interface\n",
    "\n",
    "#Butcher class object:\n",
    "\n",
    "class Butcher:\n",
    "    def __init__(self,A=np.array([0]),b=np.array([1]),c=np.array([0])): # constructor, butcher coefficients, default = FE.\n",
    "        self.A=A  #BUTCHER TABLE ENTRIES\n",
    "        self.b=b\n",
    "        self.c=c\n",
    "\n",
    "        #GENERIC RK STEP\n",
    "    def step(self,state,func,t,dt=.1):  #state=solution vector, func=rhs funciton\n",
    "        stages=np.zeros((self.b.size,state.size))\n",
    "        stages[0]=func(state,t)\n",
    "        #compute stages\n",
    "        for stage_count in range(1,self.b.size):\n",
    "            temp=np.copy(state)\n",
    "            for loop in range(stage_count):\n",
    "                temp+=dt*self.A[stage_count,loop]*stages[loop]\n",
    "            stages[stage_count]=func(temp,t+dt*self.c[stage_count])\n",
    "        #sum stages\n",
    "        new_state=state+dt*np.dot(self.b,stages)\n",
    "        return new_state\n",
    "      "
   ]
  },
  {
   "cell_type": "markdown",
   "metadata": {},
   "source": [
    "We test RK1(FE) and RK2(Heun) on a simple linear problem involving \n",
    "exponential growth.\n",
    "\n",
    "$$\n",
    "y^\\prime =Ay, \\quad \n",
    "A= \\begin{pmatrix} 2 & -1 \\\\ -1 & 2 \\end{pmatrix}, \\quad y(t=0)=(1 \\quad  0)^\\top\n",
    "$$"
   ]
  },
  {
   "cell_type": "code",
   "execution_count": 22,
   "metadata": {},
   "outputs": [
    {
     "name": "stdout",
     "output_type": "stream",
     "text": [
      "[-2.  1.]\n"
     ]
    }
   ],
   "source": [
    "init=np.array([1.0,0])\n",
    "dt=.1\n",
    "\n",
    "def rhs(x,t):\n",
    "    RHS_MAT=np.array([[2,-1],[-1,2]])\n",
    "    return np.dot(RHS_MAT,x)\n",
    "\n",
    "#test\n",
    "print(rhs(init,0))"
   ]
  },
  {
   "cell_type": "code",
   "execution_count": 39,
   "metadata": {},
   "outputs": [
    {
     "name": "stdout",
     "output_type": "stream",
     "text": [
      "1\n"
     ]
    }
   ],
   "source": [
    "#initialize RK0 \n",
    "rk0=Butcher()\n",
    "#print(type(rk0.A))\n",
    "print((rk0.A).size)\n",
    "heun=Butcher(A=np.array([[0,0],[1,0]]),b=np.array([.5,.5]), c=np.array([0,1]))\n",
    "mid=Butcher(A=np.array([[0,0],[.5,0]]),b=np.array([0,1]), c=np.array([0,.5]))\n",
    "state=np.copy(init)\n",
    "state_heun=np.copy(init)\n",
    "state_mid=np.copy(init)\n",
    "#take 100 timesteps with delta t = .1\n",
    "t=0"
   ]
  },
  {
   "cell_type": "code",
   "execution_count": 40,
   "metadata": {},
   "outputs": [
    {
     "data": {
      "image/png": "[encoded data removed]",
      "text/plain": [
       "<matplotlib.figure.Figure at 0x11307af60>"
      ]
     },
     "metadata": {},
     "output_type": "display_data"
    }
   ],
   "source": [
    "#%debug\n",
    "plt.figure()\n",
    "while t<10:\n",
    "    state=rk0.step(state,rhs,t,dt=1)\n",
    "    state_heun=heun.step(state_heun,rhs,t,dt=1)\n",
    "    state_mid=mid.step(state_mid,rhs,t,dt=1)\n",
    "    plt.scatter(state[0],state[1],c='r')\n",
    "    plt.scatter(state_heun[0],state_heun[1],c='g')\n",
    "    plt.scatter(state_mid[0],state_mid[1],c='b')\n",
    "    t+=dt\n",
    "plt.show()"
   ]
  },
  {
   "cell_type": "code",
   "execution_count": 41,
   "metadata": {},
   "outputs": [
    {
     "name": "stdout",
     "output_type": "stream",
     "text": [
      "[  7.77876910e+39  -7.77876910e+39]\n",
      "[  7.77876910e+39  -7.77876910e+39]\n",
      "[ -1.26765060e+30   1.26765060e+30]\n"
     ]
    }
   ],
   "source": [
    "   \n",
    "    \n",
    "print(state_heun)\n",
    "print(state_mid)\n",
    "print(state)\n",
    "    "
   ]
  },
  {
   "cell_type": "markdown",
   "metadata": {},
   "source": [
    "## Harmonic Oscillator (Linear)\n",
    "\n",
    "The governing equation is $ y^{\\prime\\prime}=-ky$, $y(0)$,$y^\\prime(0)$ given.  (Initial position and velocity at time=0).  \n",
    "\n",
    "We can always transform this equation into a first order system by using the reduction of order technique, namely letting $y_1=y$, and $y_2=y^\\prime$.  We then get the system\n",
    "$$\n",
    "y_1^\\prime=y_2, \\quad y_2^\\prime=-ky_1, \\quad y_1(0), \\quad y_2(0) \\quad given, \\quad k>0\n",
    "$$\n",
    "or in vector form\n",
    "$$\n",
    "Y^\\prime = AY, Y(0) \\quad given, \\quad  A=\\begin{bmatrix} 0 & 1 \\\\ -k & 0 \\end{bmatrix}\n",
    "$$\n",
    "If the initial velocity is zero and the initial displacement is one,\n",
    "the particular solution is $y=y_2=cos\\sqrt{k}x$"
   ]
  },
  {
   "cell_type": "code",
   "execution_count": null,
   "metadata": {
    "collapsed": true
   },
   "outputs": [],
   "source": [
    "from numpy import *\n",
    "from pylab import *\n",
    "\n",
    "def trapstep(t,x,h):\n",
    "\t#one step of the Trapezoid Method\n",
    "\tz1 = ydot(t,x)\n",
    "\tg = x + h*z1\n",
    "\tz2 = ydot(t+h,g)\n",
    "\treturn x + h*(z1+z2)/2.\n",
    "\n",
    "def leapfrog(t,x,h):\n",
    "    #one step of fixed step leapfrog.\n",
    "    z1 = ydot(t,x) #initial forcing\n",
    "    x[0]+= x[1]*h + .5*z1[1]*h**2\n",
    "    z2 = ydot(t+h,x)\n",
    "    x[1]+= .5*(z1[1]+z2[1])*h\n",
    "    return x\n",
    "\n",
    "def imp_euler(t,x,h,debug=False):\n",
    "    #one step of implicit euler\n",
    "    guess=euler(t,x,h) #do one step of exp euler for initial guess\n",
    "    residual=guess-x-h*ydot(t+h,guess)\n",
    "    while linalg.norm(residual) > 1E-12:\n",
    "        if debug:\n",
    "            print(t,residual)\n",
    "        step=linalg.solve(np.eye(2)-h*jac_ydot(t+h,guess),-residual)\n",
    "        guess+=step\n",
    "        residual=guess-x-h*ydot(t+h,guess)\n",
    "    return guess\n",
    "        \n",
    "        \n",
    "\n",
    "\n",
    "def euler(t,x,h):\n",
    "    #one step of the forward Euler method\n",
    "    z1 = ydot(t,x)\n",
    "    return x + h*z1\n",
    "\n",
    "def rk4step(t,w,h):\n",
    "\t#one step of the Runge-Kutta order 4 method\n",
    "\ts1 = ydot(t,w)\n",
    "\ts2 = ydot(t+h/2,w+h*s1/2.)\n",
    "\ts3 = ydot(t+h/2,w+h*s2/2.)\n",
    "\ts4 = ydot(t+h,  w+h*s3)\n",
    "\treturn w + h*(s1+2*s2+2*s3+s4)/6.\n",
    "\n",
    "\n"
   ]
  },
  {
   "cell_type": "code",
   "execution_count": null,
   "metadata": {
    "collapsed": true
   },
   "outputs": [],
   "source": [
    "def ivp(ab,ic,n,time_int=euler):\n",
    "    h = float(ab[1]-ab[0])/n\t# plot n points in total\n",
    "    y = zeros((n+1,2)); \n",
    "    t = empty(n+1)\t\t\t\t\t\n",
    "    y[0,:] = ic;\n",
    "    t[0] = ab[0]\t# enter initial conds in y\n",
    "    for k in range(n):\n",
    "        t[k+1] = t[k] + h\n",
    "        y[k+1,:] = time_int( t[k],y[k,:], h )\n",
    "    return t,y"
   ]
  },
  {
   "cell_type": "code",
   "execution_count": null,
   "metadata": {},
   "outputs": [],
   "source": [
    "def jac_ydot(t,x,k=10):\n",
    "    return array([[0,1],[-k,0]])\n",
    "\n",
    "#steps,state=ivp([0,3000],[0,1],300000,leapfrog)\n",
    "#plt.plot(steps,state[:,1],label='FE')\n",
    "#plt.plot(steps,cos(10**.5*steps)-state[:,1])\n",
    "#plt.show()\n",
    "#plt.figure()\n",
    "steps,state=ivp([0,300000],[0,1],3000000,rk4step)\n",
    "#plt.plot(steps,state[:,1],label='FE')"
   ]
  },
  {
   "cell_type": "code",
   "execution_count": null,
   "metadata": {},
   "outputs": [],
   "source": [
    "#plt.figure(figure_size(16,8))\n",
    "plt.plot(steps[-10000::100],cos(10**.5*steps[-10000::100])-state[-10000::100,1])\n",
    "plt.show()"
   ]
  },
  {
   "cell_type": "code",
   "execution_count": null,
   "metadata": {},
   "outputs": [],
   "source": [
    "plt.plot(steps[0::10],1/np.sqrt(10)*sin(10**.5*steps[0::10])-state[0::10,0])\n",
    "plt.show()"
   ]
  },
  {
   "cell_type": "code",
   "execution_count": null,
   "metadata": {},
   "outputs": [],
   "source": [
    "def ydot(t,x,k=10):\n",
    "    return array([x[1],-k*x[0]])\n",
    "\n",
    "\n",
    "steps,state=ivp([0,30],[0,1],np.int(30*10),imp_euler)\n",
    "plt.plot(steps,state[:,1],label='FE')\n",
    "plt.plot(steps,cos(10**.5*steps))\n",
    "plt.show()\n",
    "\n",
    "plt.figure()\n",
    "plt.plot(steps,state[:,0])\n",
    "plt.plot(steps,1/np.sqrt(10)*sin(10**.5*steps))\n",
    "plt.show()\n",
    "\n",
    "\n",
    "\n"
   ]
  },
  {
   "cell_type": "code",
   "execution_count": null,
   "metadata": {},
   "outputs": [],
   "source": [
    "tmax=100\n",
    "steps,state=ivp([0,tmax],[0,1],tmax*1000,time_int=rk4step)\n",
    "#plt.plot(steps,state[:,1])\n",
    "plt.plot(steps,cos(10**.5*steps)-state[:,1])\n",
    "#plt.plot(steps,state[:,0])\n",
    "#plt.plot(steps,cos(steps))\n",
    "plt.show()"
   ]
  },
  {
   "cell_type": "markdown",
   "metadata": {},
   "source": [
    "## Implicit Euler\n",
    "\n",
    "Involves solving a system of equations at each timestep.  It is based upon\n",
    "solving \n",
    "$$\n",
    "y_{n+1} = y_n + h f(t_{n+1},y_{n+1})\n",
    "$$ \n",
    "so $y_{n+1}$ is **implicitly** defined via a system of equations.  For a \n",
    "linear system, we get a matrix problem.  For a non-linear system, we get a\n",
    "system we have to solve using something like the multivariate Newton's method.  The equation for the Newton step is:\n",
    "$$\n",
    "(I - h Df(t_{n+1},\\tilde{y}_{i})\\delta_i = y_n + h f(t_{n+1},\\tilde{y}_{i})-\\tilde{y}_{i},\n",
    "$$\n",
    "where $\\tilde{y}_i$ is the current Newton iterate, $\\tilde{y}_0=y_n$, and\n",
    "$Df$ is the Jacobian of f.\n",
    "\n",
    "The converged Newton iterate becomes the new $y_{n+1}$."
   ]
  },
  {
   "cell_type": "code",
   "execution_count": null,
   "metadata": {},
   "outputs": [],
   "source": [
    "steps,state=ivp([0,30],[0,1],100,rk4step)\n",
    "plt.plot(steps,state[:,1],label='RK4')\n",
    "plt.plot(steps,cos(10**.5*steps))\n",
    "plt.show()"
   ]
  },
  {
   "cell_type": "markdown",
   "metadata": {},
   "source": [
    "## To Do:  \n",
    "Find a timestep for Euler that gives \"stable\" results.\n",
    "Produce a plot for RK4.  What timestep(s) gives \"good\" results?\n"
   ]
  },
  {
   "cell_type": "code",
   "execution_count": null,
   "metadata": {
    "collapsed": true
   },
   "outputs": [],
   "source": []
  },
  {
   "cell_type": "markdown",
   "metadata": {},
   "source": [
    "## Nonlinear ODE: The Pendulum\n",
    "\n",
    "$$\n",
    "\\theta_{tt}=-d\\theta_t -\\frac{g}{L}\\sin(\\theta)\n",
    "$$\n",
    "\n",
    "Here $\\theta$ represents the angle with to the direction of the gravitational force.  Two equilibrium solution corresponds to the \n",
    "pendulum aligned with gravity with **no** angular velcity.  \n",
    "\n",
    "An initial condition of $\\theta(0)=\\pi/2$ and $\\theta_t(0)=0$ would correspond to the pendulum being held at a 90 degree angle with the ground, and then released."
   ]
  },
  {
   "cell_type": "code",
   "execution_count": null,
   "metadata": {},
   "outputs": [],
   "source": [
    "def ydot(t,x,d=0,g=9.81,length=1):\n",
    "    #g = 9.81; length = 1\n",
    "    return array( [x[1], -(g/length)*sin(x[0])-d*x[1]] )\n",
    "\n",
    "#def ydot(t,x):\n",
    "#    return array([-x[0],-x[1]])\n",
    "\n",
    "def jac_ydot(t,x,d=0,g=9.81,length=1):\n",
    "    return array([[0, 1],[-g/length*cos(x[0]),-d]])\n",
    "\n",
    "#def jac_ydot(t,x):\n",
    "#    return -eye(2)\n",
    "\n",
    "steps,state=ivp([0,10],[pi/2,0],100,trapstep)\n",
    "plot(steps,state[:,0])\n",
    "plt.show()"
   ]
  },
  {
   "cell_type": "markdown",
   "metadata": {},
   "source": [
    "## To Do:  \n",
    "Without damping, for what values of $\\Delta t=h$ does forward euler \n",
    "give \"physical solutions\"."
   ]
  },
  {
   "cell_type": "markdown",
   "metadata": {},
   "source": [
    "## Damped Linear Oscillator and Resonance\n",
    "\n",
    "We add a damping force (often the natural damping of a structure, proportionally to the velocity.\n",
    "\n",
    "$$\n",
    "y_{tt}= -dy_{t}-\\frac{K}{m}y\n",
    "$$\n",
    "\n",
    "The damping adds a strong \"stiffness\" limit to the system that creates a small timestep restriction even when the solution is slowly changing."
   ]
  },
  {
   "cell_type": "code",
   "execution_count": null,
   "metadata": {},
   "outputs": [],
   "source": [
    "def ydot(t,y,d=20,K=1):\n",
    "    #d=0\n",
    "    return array([y[1],-K*y[0]-d*y[1]])\n",
    "\n",
    "def jac_ydot(t,y,d=20,K=1):\n",
    "    return array([[0,1],[-K,-d]])\n",
    "\n",
    "steps,state=ivp([0,10],[1,0],90,time_int=euler)\n",
    "\n",
    "plot(steps,state)\n",
    "plt.show()"
   ]
  },
  {
   "cell_type": "code",
   "execution_count": null,
   "metadata": {},
   "outputs": [],
   "source": [
    "steps,state=ivp([0,10],[1,0],50,time_int=euler)\n",
    "plot(steps,state)\n",
    "plt.show()\n",
    "\n",
    "    "
   ]
  },
  {
   "cell_type": "code",
   "execution_count": null,
   "metadata": {},
   "outputs": [],
   "source": [
    "steps,state=ivp([0,10],[1,0],10,time_int=imp_euler)\n",
    "\n",
    "plot(steps,state)\n",
    "plt.show()"
   ]
  },
  {
   "cell_type": "markdown",
   "metadata": {},
   "source": [
    "## To Do:  \n",
    "Determine what timestep causes the solution to go unstable for the\n",
    "trapezoidal rule?  RK4?\n"
   ]
  },
  {
   "cell_type": "code",
   "execution_count": null,
   "metadata": {},
   "outputs": [],
   "source": [
    "steps,state=ivp([0,10],[1,0],100,time_int=rk4step)\n",
    "plot(steps,state)\n",
    "plt.show()"
   ]
  },
  {
   "cell_type": "markdown",
   "metadata": {},
   "source": [
    "## What if we added a forcing term?\n",
    "\n",
    "Something like $W_0 \\cos(\\alpha t)$? (and turned off damping?)"
   ]
  },
  {
   "cell_type": "code",
   "execution_count": null,
   "metadata": {},
   "outputs": [],
   "source": [
    "def ydot(t,y,d=20,K=1):\n",
    "    d=1\n",
    "    w_0=.1\n",
    "    alpha=2\n",
    "    shift=0\n",
    "    return array([y[1],-K*y[0]-d*y[1]+w_0*cos(alpha*(t-shift))])\n",
    "\n",
    "steps,state=ivp([0,100],[1,0],10000,time_int=rk4step)\n",
    "\n",
    "plot(steps,state[:,0])\n",
    "plt.show()"
   ]
  },
  {
   "cell_type": "markdown",
   "metadata": {},
   "source": [
    "## What happens when $\\alpha=\\sqrt{K/m}$?"
   ]
  },
  {
   "cell_type": "code",
   "execution_count": null,
   "metadata": {},
   "outputs": [],
   "source": [
    "def ydot(t,y,d=20,K=1):\n",
    "    d=1\n",
    "    w_0=.1\n",
    "    alpha=1\n",
    "    return array([y[1],-K*y[0]-d*y[1]+w_0*cos(alpha*t)])\n",
    "\n",
    "steps,state2=ivp([0,100],[1,0],10000,time_int=rk4step)\n",
    "plot(steps,state2[:,0])\n",
    "\n",
    "plot(steps,state[:,0])\n",
    "plt.show()"
   ]
  },
  {
   "cell_type": "markdown",
   "metadata": {},
   "source": [
    "## Tacoma Narrows Bridge\n",
    "\n",
    "Model: The simple linear model is two harmonic oscillators(springs), connected by a rigid rod that represents the road.  You could write the\n",
    "system in terms of the velocities and displacements of the two springs,\n",
    "or you can write it in terms of the velocity and displacement of the midpoint and the angle and change in angle at that midpoint.  \n",
    "\n",
    "$$\n",
    "\\begin{multline*}\n",
    "y^{\\prime\\prime} = -y^\\prime - \\frac{K}{m}\\left(f(y-L\\sin \\theta) -f(y+L\\sin \\theta) \\right) \\\\\n",
    "\\theta^{\\prime\\prime}= -\\theta^\\prime - \\frac{3\\cos\\theta}{L}\\frac{K}{m}\\left( f(y-L\\sin\\theta) - f(y+L\\sin\\theta) \\right)\n",
    "\\end{multline*}\n",
    "$$\n",
    "where $K$ is the identical spring constant, $L$ is the length of the \n",
    "road, and $m$ is the identical mass of the two springs.\n",
    "\n",
    "$f(Y)$ represents the spring model.  \n",
    "* We will consider a simple linear model where $f(Y)=Y$\n",
    "* We will also consider a nonlinear model where $f(Y)=(a)^{-1}(e^{aY}-1)$, and $a$ is a parameter.\n",
    "\n",
    "\n",
    "\n"
   ]
  },
  {
   "cell_type": "code",
   "execution_count": null,
   "metadata": {
    "collapsed": true
   },
   "outputs": [],
   "source": [
    "# Program 6.6 Animation program for bridge using IVP solver\n",
    "# Translated to Python by JR 2/17/2012. Update for 2e 2/24/12.\n",
    "# Inputs: inter = time interval inter, \n",
    "#   ic = [y[0,0] y[0,1] y[0,2] y[0,3]],\n",
    "#   number of steps n, p = steps per point plottedZZ\n",
    "# Calls a one-step method such as trapstep.m\n",
    "# Example usage: tacoma([0,1000],[0,0,0.001,0],25000,3)\n",
    "\n",
    "from numpy import *\n",
    "from pylab import *\n",
    "#from time  import sleep\n",
    "from matplotlib import animation, rc\n",
    "from IPython.display import HTML\n"
   ]
  },
  {
   "cell_type": "code",
   "execution_count": null,
   "metadata": {
    "collapsed": true
   },
   "outputs": [],
   "source": [
    "def tacoma(inter,ic,n,time_int=trapstep):\n",
    "    [a,b] = inter; h = float(b-a)/n \t# plot n points\n",
    "    y = zeros((n,4)); t = zeros(n)\n",
    "    y[0,:] = ic\t\t\t\t\t\t\t# enter initial conds in y\n",
    "    t[0] = a\n",
    "\n",
    "    for i in range(n-1):\n",
    "        t[i+1] =  t[i]+h; \n",
    "        y[i+1,:] = time_int(t[i],y[i,:],h); \n",
    "    return t,y\n",
    "\n",
    "def ydot(t,y):\n",
    "    leng = 6;  a = 0.2;  W = 80;  omega = 2*pi*38/60.\n",
    "    K=1000\n",
    "    M=2500\n",
    "    Koverm=K/M\n",
    "    #Koverm=omega**2\n",
    "    linear = False #toggle to switch model\n",
    "    if linear:\n",
    "        F1 = y[0]-leng*sin(y[2])\n",
    "        F2 = y[0]+leng*sin(y[2])\n",
    "    else:\n",
    "        F1 = exp(a*(y[0]-leng*sin(y[2])))-1\n",
    "        F1 /= a\n",
    "        F2 = exp(a*(y[0]+leng*sin(y[2])))-1\n",
    "        F2 /= a\n",
    "    ydot = empty(4)\n",
    "    ydot[0] = y[1]\n",
    "    ydot[1] = -0.01*y[1]-Koverm*(F1+F2)+0.2*W*sin(omega*t)\n",
    "    ydot[2] = y[3]\n",
    "    ydot[3] = -0.01*y[3]+3*Koverm*cos(y[2])*(F1-F2)/leng\n",
    "    return ydot\n",
    "\n",
    "t,y=tacoma([0,1000],[0,0,0.001,0],25000,time_int=rk4step)\n"
   ]
  },
  {
   "cell_type": "code",
   "execution_count": null,
   "metadata": {
    "collapsed": true
   },
   "outputs": [],
   "source": [
    "Rp=9\n",
    "length=6\n",
    "fig=figure()\n",
    "plot([-Rp,Rp,Rp],[-Rp,-Rp,Rp],'w')\n",
    "c = length*cos(y[0,2]); s = length*sin(y[0,2])\n",
    "road,   = plot([-c, c],[-s-y[0,0], s-y[0,0]],linewidth=5) \n",
    "lcable, = plot([-c,-c],[-s-y[0,0],8]) \n",
    "rcable, = plot([ c, c],[ s-y[0,0],8])\n",
    "def plot_tac(i):\n",
    "    length=6\n",
    "    c = length*cos(y[i,2]); s = length*sin(y[i,2])\n",
    "    road.set_data([-c, c],[-s-y[i,0], s-y[i,0]]) \n",
    "    lcable.set_data([-c,-c],[-s-y[i,0],8]) \n",
    "    rcable.set_data([ c, c],[ s-y[i,0],8])\n",
    "    return road,lcable,rcable\n",
    "    \n",
    "ani = animation.FuncAnimation(fig, plot_tac, arange(0,25000,100),blit=True)"
   ]
  },
  {
   "cell_type": "code",
   "execution_count": null,
   "metadata": {},
   "outputs": [],
   "source": [
    "HTML(ani.to_html5_video())\n"
   ]
  },
  {
   "cell_type": "code",
   "execution_count": null,
   "metadata": {},
   "outputs": [],
   "source": [
    "def plot_vars(t,y,start=0,end=None):\n",
    "    fig2,ax=plt.subplots(4)    \n",
    "    for i in range(4):\n",
    "        ax[i].plot(t[start:end],y[start:end,i])\n",
    "    subplots_adjust(hspace=.5)\n",
    "    fig2.set_size_inches(20,16)\n",
    "    plt.show(fig2)\n",
    "    #window=t[end-1]-t[start]\n",
    "    #xticks(arange(t[start],t[end],window/5))\n",
    "plot_vars(t,y)"
   ]
  },
  {
   "cell_type": "code",
   "execution_count": null,
   "metadata": {
    "collapsed": true
   },
   "outputs": [],
   "source": [
    "t,y=tacoma([0,1000],[0,0,0.001,0],25000,time_int=rk4step)"
   ]
  },
  {
   "cell_type": "code",
   "execution_count": null,
   "metadata": {
    "collapsed": true
   },
   "outputs": [],
   "source": [
    "plot_vars(t,y)\n"
   ]
  },
  {
   "cell_type": "code",
   "execution_count": null,
   "metadata": {
    "collapsed": true
   },
   "outputs": [],
   "source": [
    "print(2*pi*38/60)"
   ]
  },
  {
   "cell_type": "code",
   "execution_count": null,
   "metadata": {
    "collapsed": true
   },
   "outputs": [],
   "source": [
    "plot_vars(t,y,0,100)"
   ]
  },
  {
   "cell_type": "markdown",
   "metadata": {},
   "source": [
    "## To Do:\n",
    "\n",
    "Experiment with  the minimum wind speed s.t. an  initial disturbancein $\\theta$ is damped out over time for the nonlinear model."
   ]
  },
  {
   "cell_type": "code",
   "execution_count": null,
   "metadata": {
    "collapsed": true
   },
   "outputs": [],
   "source": []
  }
 ],
 "metadata": {
  "kernelspec": {
   "display_name": "Python [conda root]",
   "language": "python",
   "name": "conda-root-py"
  },
  "language_info": {
   "codemirror_mode": {
    "name": "ipython",
    "version": 3
   },
   "file_extension": ".py",
   "mimetype": "text/x-python",
   "name": "python",
   "nbconvert_exporter": "python",
   "pygments_lexer": "ipython3",
   "version": "3.6.1"
  }
 },
 "nbformat": 4,
 "nbformat_minor": 2
}
