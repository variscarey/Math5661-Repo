{
 "cells": [
  {
   "cell_type": "markdown",
   "metadata": {},
   "source": [
    "## Romberg Integration = Richardson Extrapolation \n",
    "\n",
    "Romberg Integration is just Richardson Extrapolation(KC 7.1) applied\n",
    "to numerical integration.  Here we apply it to the composite trapezoidal \n",
    "rule.\n",
    "\n",
    "We look at integrating \n",
    "$$\n",
    "\\int_0^1 \\frac{1}{\\sqrt{2\\pi}}e^{-x^2/2},\n",
    "$$\n",
    "which gives the percentile of a standard, normally distributed population lying between the mean and one standard deviation.\n",
    "\n",
    "We start with 8 intervals(9 points between 0 and 1 inclusive)"
   ]
  },
  {
   "cell_type": "code",
   "execution_count": 2,
   "metadata": {},
   "outputs": [
    {
     "data": {
      "image/png": "[encoded data removed]",
      "text/plain": [
       "<matplotlib.figure.Figure at 0x10b6e2780>"
      ]
     },
     "metadata": {},
     "output_type": "display_data"
    }
   ],
   "source": [
    "import numpy as np\n",
    "import matplotlib.pyplot as plt\n",
    "def integrand(x):\n",
    "    return 1.0/(2*np.pi)**.5*np.exp(-x**2/2)\n",
    "\n",
    "hmesh=np.linspace(0,1,9)\n",
    "\n",
    "halfmesh=np.linspace(0,1,17)\n",
    "\n",
    "plt.scatter(hmesh,np.zeros(9))\n",
    "plt.scatter(halfmesh,np.ones(17))\n",
    "for x in hmesh:\n",
    "    plt.axvline(x)\n",
    "plt.show()\n"
   ]
  },
  {
   "cell_type": "markdown",
   "metadata": {},
   "source": [
    "Note that the sample values for the integrand are nested.  This is **not true** for the midpoint rule.\n",
    "\n",
    "Also note that for $n$ intervals, \n",
    "$$\n",
    "I(h)= \\frac{h}{2}\\left(f(x_0) + 2\\sum_{i=1}^{n-1} f(x_i) + f(x_n)\\right)\n",
    "$$\n",
    "\n",
    "and that for $2n$ intervals(i.e. $h/2$),\n",
    "$$\n",
    "I(\\frac{h}{2}) = \\frac{I(h)}{2} + \\frac{h}{2}\\sum_{x_i \\in \\text{new points}} f(x_i)\n",
    "$$"
   ]
  },
  {
   "cell_type": "code",
   "execution_count": 4,
   "metadata": {},
   "outputs": [
    {
     "name": "stdout",
     "output_type": "stream",
     "text": [
      "17\n"
     ]
    },
    {
     "ename": "NameError",
     "evalue": "name 'trap' is not defined",
     "output_type": "error",
     "traceback": [
      "\u001b[0;31m---------------------------------------------------------------------------\u001b[0m",
      "\u001b[0;31mNameError\u001b[0m                                 Traceback (most recent call last)",
      "\u001b[0;32m<ipython-input-4-4f88452a3a01>\u001b[0m in \u001b[0;36m<module>\u001b[0;34m()\u001b[0m\n\u001b[1;32m     13\u001b[0m \u001b[0mhalfmesh\u001b[0m\u001b[0;34m[\u001b[0m\u001b[0;36m1\u001b[0m\u001b[0;34m:\u001b[0m\u001b[0;34m:\u001b[0m\u001b[0;36m2\u001b[0m\u001b[0;34m]\u001b[0m\u001b[0;34m=\u001b[0m\u001b[0mxnew\u001b[0m\u001b[0;34m\u001b[0m\u001b[0m\n\u001b[1;32m     14\u001b[0m \u001b[0;34m\u001b[0m\u001b[0m\n\u001b[0;32m---> 15\u001b[0;31m \u001b[0mhalftrap\u001b[0m\u001b[0;34m=\u001b[0m\u001b[0;36m.5\u001b[0m\u001b[0;34m*\u001b[0m\u001b[0mtrap\u001b[0m\u001b[0;34m+\u001b[0m\u001b[0;36m.5\u001b[0m\u001b[0;34m/\u001b[0m\u001b[0;34m(\u001b[0m\u001b[0mlength\u001b[0m\u001b[0;34m-\u001b[0m\u001b[0;36m1\u001b[0m\u001b[0;34m)\u001b[0m\u001b[0;34m*\u001b[0m\u001b[0;34m(\u001b[0m\u001b[0mnp\u001b[0m\u001b[0;34m.\u001b[0m\u001b[0msum\u001b[0m\u001b[0;34m(\u001b[0m\u001b[0mintegrand\u001b[0m\u001b[0;34m(\u001b[0m\u001b[0mxnew\u001b[0m\u001b[0;34m)\u001b[0m\u001b[0;34m)\u001b[0m\u001b[0;34m)\u001b[0m\u001b[0;34m\u001b[0m\u001b[0m\n\u001b[0m\u001b[1;32m     16\u001b[0m \u001b[0;34m\u001b[0m\u001b[0m\n\u001b[1;32m     17\u001b[0m \u001b[0mprint\u001b[0m\u001b[0;34m(\u001b[0m\u001b[0mtrap\u001b[0m\u001b[0;34m,\u001b[0m\u001b[0mhalftrap\u001b[0m\u001b[0;34m)\u001b[0m\u001b[0;34m\u001b[0m\u001b[0m\n",
      "\u001b[0;31mNameError\u001b[0m: name 'trap' is not defined"
     ]
    }
   ],
   "source": [
    "\n",
    "def base_trap(integrand,hmesh):\n",
    "    length=hmesh.size\n",
    "    trap=.5/(length-1)*(integrand(hmesh[0])+integrand(hmesh[-1])\n",
    "                              +2*np.sum(integrand(hmesh[1:-1])))\n",
    "    return trap\n",
    "\n",
    "length=hmesh.size\n",
    "xnew=.5*(hmesh[0:length-1]+hmesh[1:length])\n",
    "halfmesh=np.zeros(length+xnew.size)\n",
    "print(halfmesh.size)\n",
    "halfmesh[0::2]=hmesh \n",
    "halfmesh[1::2]=xnew\n",
    "\n",
    "halftrap=.5*trap+.5/(length-1)*(np.sum(integrand(xnew)))\n",
    "\n",
    "print(trap,halftrap)\n",
    "\n",
    "extrapol= (4*halftrap - trap)/3\n",
    "print(extrapol)\n"
   ]
  },
  {
   "cell_type": "code",
   "execution_count": 5,
   "metadata": {},
   "outputs": [
    {
     "name": "stdout",
     "output_type": "stream",
     "text": [
      "[[ 0.3204565   0.          0.          0.          0.          0.        ]\n",
      " [ 0.33626091  0.34152905  0.          0.          0.          0.        ]\n",
      " [ 0.34008184  0.34135549  0.34134392  0.          0.          0.        ]\n",
      " [ 0.34102952  0.34134541  0.34134473  0.34134475  0.          0.        ]\n",
      " [ 0.34126597  0.34134479  0.34134475  0.34134475  0.34134475  0.        ]\n",
      " [ 0.34132505  0.34134475  0.34134475  0.34134475  0.34134475  0.34134475]]\n"
     ]
    }
   ],
   "source": [
    "def merge(x,y):\n",
    "    temp=np.zeros(x.size+y.size) #merges vector with vector of midpoints\n",
    "    temp[0::2]=x\n",
    "    temp[1::2]=y\n",
    "    return temp\n",
    "\n",
    "def bisect(x):\n",
    "    return .5*(x[0:-1]+x[1:]) #returns midpoints of x\n",
    "\n",
    "def Romberg(integrand,a=0,b=1,levels=4,pts=2):\n",
    "    R=np.zeros((levels,levels))\n",
    "    pts=np.linspace(a,b,pts) #initial level, h=b-a\n",
    "    h=b-a\n",
    "    R[0,0]=base_trap(integrand,pts) #trap rule with 1 interval\n",
    "    for i in range(1,levels):\n",
    "        new=bisect(pts)  #split the interval in half\n",
    "        h=.5*h\n",
    "        R[i,0]=.5*R[i-1,0]+h*np.sum(integrand(new)) #composite trap rule\n",
    "        pts=merge(pts,new)\n",
    "        for j in range(1,i+1): #fill in columns using extrapolation\n",
    "            R[i,j]=(4**j*R[i,j-1]-R[i-1,j-1])/(4**j-1) #extrapolation\n",
    "    print(R) #print the Romberg table\n",
    "    return R\n",
    "\n",
    "integ=Romberg(integrand,levels=6)"
   ]
  },
  {
   "cell_type": "markdown",
   "metadata": {},
   "source": [
    "## Convergence Rate\n",
    "\n",
    "Let's integrate $e^x$ on [0,1] using Romberg integration.\n",
    "\n",
    "We also compare versus the composite trapezoidal rule, which uses the\n",
    "same number of evaluations of the integrand."
   ]
  },
  {
   "cell_type": "code",
   "execution_count": 6,
   "metadata": {},
   "outputs": [
    {
     "name": "stdout",
     "output_type": "stream",
     "text": [
      "[[ 1.85914091  0.          0.          0.          0.          0.        ]\n",
      " [ 1.75393109  1.71886115  0.          0.          0.          0.        ]\n",
      " [ 1.7272219   1.71831884  1.71828269  0.          0.          0.        ]\n",
      " [ 1.72051859  1.71828415  1.71828184  1.71828183  0.          0.        ]\n",
      " [ 1.71884113  1.71828197  1.71828183  1.71828183  1.71828183  0.        ]\n",
      " [ 1.71842166  1.71828184  1.71828183  1.71828183  1.71828183  1.71828183]]\n"
     ]
    },
    {
     "data": {
      "image/png": "[encoded data removed]",
      "text/plain": [
       "<matplotlib.figure.Figure at 0x10c623b00>"
      ]
     },
     "metadata": {},
     "output_type": "display_data"
    }
   ],
   "source": [
    "def myfunc(x):\n",
    "    return np.exp(x)\n",
    "\n",
    "inte=Romberg(myfunc,levels=6) #Romberg with 6-levels\n",
    "exact=np.exp(1)-1 #exact integral\n",
    "err=np.zeros(6)\n",
    "err=np.absolute(np.diag(inte)-exact) #diag of Romberg mat is best appr.\n",
    "err2=np.absolute(inte[:,0]-exact) #First Column is composite trap rule\n",
    "plt.semilogy(err,label='Romberg')\n",
    "plt.semilogy(err2,label='Comp. Trap')\n",
    "plt.legend()\n",
    "plt.show()"
   ]
  },
  {
   "cell_type": "markdown",
   "metadata": {},
   "source": [
    "### Adaptive Romberg\n",
    "\n",
    "One version of Romberg integration repeatedly subdivides, but stops when\n",
    "$|R[i,i]-R[i-1,i-1]|<tol$, i.e. the value of the integrand doesn't change by much from one level to the next.  This tolerance could be absolute or relative.\n"
   ]
  },
  {
   "cell_type": "code",
   "execution_count": 7,
   "metadata": {},
   "outputs": [
    {
     "name": "stdout",
     "output_type": "stream",
     "text": [
      "[[ 0.3204565   0.          0.          0.          0.          0.          0.\n",
      "   0.          0.          0.        ]\n",
      " [ 0.33626091  0.34152905  0.          0.          0.          0.          0.\n",
      "   0.          0.          0.        ]\n",
      " [ 0.34008184  0.34135549  0.34134392  0.          0.          0.          0.\n",
      "   0.          0.          0.        ]\n",
      " [ 0.34102952  0.34134541  0.34134473  0.34134475  0.          0.          0.\n",
      "   0.          0.          0.        ]\n",
      " [ 0.34126597  0.34134479  0.34134475  0.34134475  0.34134475  0.          0.\n",
      "   0.          0.          0.        ]\n",
      " [ 0.34132505  0.34134475  0.34134475  0.34134475  0.34134475  0.34134475\n",
      "   0.          0.          0.          0.        ]\n",
      " [ 0.          0.          0.          0.          0.          0.          0.\n",
      "   0.          0.          0.        ]\n",
      " [ 0.          0.          0.          0.          0.          0.          0.\n",
      "   0.          0.          0.        ]\n",
      " [ 0.          0.          0.          0.          0.          0.          0.\n",
      "   0.          0.          0.        ]\n",
      " [ 0.          0.          0.          0.          0.          0.          0.\n",
      "   0.          0.          0.        ]]\n",
      "[[ 1.892971    0.          0.          0.          0.          0.          0.\n",
      "   0.          0.          0.        ]\n",
      " [ 0.9597322   0.6486526   0.          0.          0.          0.          0.\n",
      "   0.          0.          0.        ]\n",
      " [ 1.17776269  1.25043952  1.29055865  0.          0.          0.          0.\n",
      "   0.          0.          0.        ]\n",
      " [ 1.36828659  1.43179456  1.4438849   1.44631865  0.          0.          0.\n",
      "   0.          0.          0.        ]\n",
      " [ 1.21223935  1.16022361  1.14211888  1.13732894  1.13611722  0.          0.\n",
      "   0.          0.          0.        ]\n",
      " [ 1.20367848  1.20082486  1.20353161  1.20450641  1.20476985  1.20483696\n",
      "   0.          0.          0.          0.        ]\n",
      " [ 1.20242014  1.20200069  1.20207908  1.20205602  1.20204641  1.20204375\n",
      "   1.20204307  0.          0.          0.        ]\n",
      " [ 1.20213449  1.20203927  1.20204185  1.20204125  1.2020412   1.20204119\n",
      "   1.20204119  1.20204119  0.          0.        ]\n",
      " [ 1.20206464  1.20204136  1.2020415   1.20204149  1.20204149  1.20204149\n",
      "   1.20204149  1.20204149  1.20204149  0.        ]\n",
      " [ 1.20204727  1.20204148  1.20204149  1.20204149  1.20204149  1.20204149\n",
      "   1.20204149  1.20204149  1.20204149  1.20204149]]\n"
     ]
    }
   ],
   "source": [
    "def Adapt_Romberg(integrand,a=0,b=1,tolerance=1E-12,levels=10):\n",
    "    R=np.zeros((levels,levels))\n",
    "    pts=np.linspace(a,b,2) #initial level, h=b-a\n",
    "    h=b-a\n",
    "    R[0,0]=base_trap(integrand,pts)\n",
    "    lev=1\n",
    "    tol_met=False\n",
    "    while not tol_met and lev < levels:\n",
    "        new=bisect(pts)  #split the interval in half\n",
    "        h=.5*h\n",
    "        R[lev,0]=.5*R[lev-1,0]+h*np.sum(integrand(new)) #composite trap rule\n",
    "        pts=merge(pts,new)\n",
    "        for j in range(1,lev+1): #fill in columns using extrapolation\n",
    "            R[lev,j]=(4**j*R[lev,j-1]-R[lev-1,j-1])/(4**j-1) #extrapolation\n",
    "        if np.absolute(R[lev,lev]-R[lev-1,lev-1]) < tolerance:\n",
    "            tol_met=True\n",
    "        lev+=1\n",
    "    print(R) #print the Romberg table\n",
    "    return R[lev-1,lev-1],R\n",
    "\n",
    "def tough(x):\n",
    "    return 1+np.sin(np.exp(3*x))\n",
    "int=Adapt_Romberg(integrand)\n",
    "int2=Adapt_Romberg(tough)"
   ]
  },
  {
   "cell_type": "code",
   "execution_count": 43,
   "metadata": {},
   "outputs": [
    {
     "name": "stdout",
     "output_type": "stream",
     "text": [
      "1.20204149114\n"
     ]
    }
   ],
   "source": [
    "print(int2)"
   ]
  },
  {
   "cell_type": "code",
   "execution_count": 45,
   "metadata": {},
   "outputs": [
    {
     "name": "stdout",
     "output_type": "stream",
     "text": [
      "[ 1.892971    0.6486526   1.29055865  1.44631865  1.13611722  1.20483696\n",
      "  1.20204307  1.20204119  1.20204149  1.20204149]\n"
     ]
    }
   ],
   "source": [
    "print(np.diag(int2[1]))"
   ]
  },
  {
   "cell_type": "code",
   "execution_count": 46,
   "metadata": {},
   "outputs": [
    {
     "name": "stdout",
     "output_type": "stream",
     "text": [
      "-6.04957417494e-10\n"
     ]
    }
   ],
   "source": [
    "temp=np.diag(int2[1])\n",
    "print(temp[-1]-temp[-2])"
   ]
  },
  {
   "cell_type": "code",
   "execution_count": null,
   "metadata": {
    "collapsed": true
   },
   "outputs": [],
   "source": []
  }
 ],
 "metadata": {
  "kernelspec": {
   "display_name": "Python [conda root]",
   "language": "python",
   "name": "conda-root-py"
  },
  "language_info": {
   "codemirror_mode": {
    "name": "ipython",
    "version": 3
   },
   "file_extension": ".py",
   "mimetype": "text/x-python",
   "name": "python",
   "nbconvert_exporter": "python",
   "pygments_lexer": "ipython3",
   "version": "3.6.1"
  }
 },
 "nbformat": 4,
 "nbformat_minor": 2
}
