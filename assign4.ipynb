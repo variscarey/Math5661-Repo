{
 "cells": [
  {
   "cell_type": "markdown",
   "metadata": {},
   "source": [
    "## 1. \n",
    "Consider  $$ I=\\int_0^\\infty \\frac{1}{\\sqrt{2\\pi}} e^{-x^2/2} \\; dx $$\n",
    "\n",
    "This is the *probability density function(pdf)* of \n",
    "the standard normal distribution.  As a *pdf*, its integral over the whole real line is 1.  \n",
    "Thus, by symmetry, the value of the above integral is $\\frac{1}{2}$.\n",
    "\n",
    "Consider approaches for evaluating $I$ numerically.  \n",
    "\n",
    "* Let M be some large number, and integrate\n",
    "$I$ numerically using adaptive quadrature (with Simpson's Rule) and 10 function evaluations.\n",
    "\n",
    "* Find a change of variable x=f(u) that maps\n",
    "$$\n",
    "I = \\int_a^b G(u) \\; du  \n",
    "$$\n",
    "and evaluate this integral *using an 5 point*\n",
    "gaussian quadrature rule.\n",
    "\n",
    "Which gives you the better result?\n",
    "\n"
   ]
  },
  {
   "cell_type": "markdown",
   "metadata": {},
   "source": [
    "## 2 \n",
    "\n",
    "Suppose you are already given the function value $f(x)$ at\n",
    "the endpoints ($x=a$ and $x=b$) exactly.  You have freedom \n",
    "to choose $n-2$ quadrature points anywhere in the domain, and\n",
    "of course you are free to determine the quadrature weights $A_i$.\n",
    "\n",
    "* What is the highest degree polynomal you can integrate exactly with a quadrature rule of this type?\n",
    "\n",
    "* Derive a recursion formula to generate the polynomials that give you the $A_i$ and the $x_i$.  Use Gaussian quadature to determine the $A_i$.  Use a root finder to find all the $x_i$. Do this for $n=3$, $n=4$, and $n=5$.\n"
   ]
  },
  {
   "cell_type": "markdown",
   "metadata": {
    "collapsed": true
   },
   "source": [
    "## 3\n",
    "\n",
    "* Derive a numerical differentiation formula of order $h^4$ by applying Richardson extrapolation to the central finite difference formula. \n",
    "* Test your formula on $\\arctan{x}$ at $x=\\sqrt{2}$. For what value of $h$ does it start to suffer from roundoff?\n",
    "\n"
   ]
  },
  {
   "cell_type": "markdown",
   "metadata": {},
   "source": [
    "## 4.\n",
    "\n",
    "* Establish error formula for the trapezoidal rule and the composite trapezoidal rule.\n",
    "* Determine the minimal number of subintervals to estimate\n",
    "$$\n",
    "int_1^2 (x+e^{-x^2})\\; dx,\n",
    "$$\n",
    "using the trapezoidal rule, with an accuracy of $1/2\\times 10^{-7}$.\n"
   ]
  },
  {
   "cell_type": "code",
   "execution_count": null,
   "metadata": {
    "collapsed": true
   },
   "outputs": [],
   "source": []
  }
 ],
 "metadata": {
  "kernelspec": {
   "display_name": "Python [conda root]",
   "language": "python",
   "name": "conda-root-py"
  },
  "language_info": {
   "codemirror_mode": {
    "name": "ipython",
    "version": 3
   },
   "file_extension": ".py",
   "mimetype": "text/x-python",
   "name": "python",
   "nbconvert_exporter": "python",
   "pygments_lexer": "ipython3",
   "version": "3.6.1"
  }
 },
 "nbformat": 4,
 "nbformat_minor": 2
}
