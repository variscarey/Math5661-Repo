{
 "cells": [
  {
   "cell_type": "markdown",
   "metadata": {},
   "source": [
    "## Assignment 5\n",
    "\n",
    "### 1.\n",
    "Derive the stability polynomial for a generic $n$-stage Runge-Kutta method in terms of the usual coefficients $a_{ij}$, $b_j$, and $c_j$.  You do not have simplify(too much). Derive the stability polynomial for the \"classical\" RK4 method. \n",
    "\n",
    "### 2. \n",
    "* Plot the stability region for RK4 by using your result from part a) and sampling in $z=\\Delta t \\lambda$ space.  \n",
    "\n",
    "* Find a timestep that should be *stable* for the harmonic oscillator problem with unit imaginary eigenvalues, and show that the numerical solution does not grow without bound for large final time $T$."
   ]
  },
  {
   "cell_type": "code",
   "execution_count": null,
   "metadata": {
    "collapsed": true
   },
   "outputs": [],
   "source": []
  }
 ],
 "metadata": {
  "kernelspec": {
   "display_name": "Python [conda root]",
   "language": "python",
   "name": "conda-root-py"
  },
  "language_info": {
   "codemirror_mode": {
    "name": "ipython",
    "version": 3
   },
   "file_extension": ".py",
   "mimetype": "text/x-python",
   "name": "python",
   "nbconvert_exporter": "python",
   "pygments_lexer": "ipython3",
   "version": "3.6.1"
  }
 },
 "nbformat": 4,
 "nbformat_minor": 2
}
