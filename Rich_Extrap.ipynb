{
 "cells": [
  {
   "cell_type": "markdown",
   "metadata": {},
   "source": [
    "We demonstrate Richardson Extrapolation applied to the forward difference formula, evaluating the derivative of $\\arctan(x)$ at $x=\\sqrt{2}$."
   ]
  },
  {
   "cell_type": "code",
   "execution_count": 49,
   "metadata": {},
   "outputs": [],
   "source": [
    "import numpy as np\n",
    "import matplotlib.pyplot as plt\n",
    "\n",
    "def rich(func,h=.1,level=6):\n",
    "    rmat=np.zeros((level,level))\n",
    "    for loop in range(level):\n",
    "        rmat[loop,0]=func(h=h)\n",
    "        h/=2\n",
    "        for loop2 in range(1,loop+1):\n",
    "            rmat[loop,loop2]=2**(loop2)*rmat[loop,loop2-1]-rmat[loop-1,loop2-1]            \n",
    "            rmat[loop,loop2]/=(2**(loop2)-1)\n",
    "    return rmat\n",
    "        \n",
    "def for_diff(function=np.arctan,x=np.sqrt(2),h=.1):\n",
    "    deriv=(function(x+h)-function(x))/h\n",
    "    return deriv\n",
    "\n",
    "def back_diff(function,x=0,h=.1):\n",
    "    deriv=(function(x)-function(x-h))/h\n",
    "    return deriv\n",
    "\n",
    "def cent_diff(function,x=0,h=.1):\n",
    "    deriv=(function(x+h)-function(x-h))/(2*h)\n",
    "    return deriv\n",
    "\n",
    "\n"
   ]
  },
  {
   "cell_type": "markdown",
   "metadata": {},
   "source": [
    "Here we use Richardson Extrapolation with 6 levels to approximate the derivative.  The starting step is $h=.5$ and the final step is $2^{-8}$."
   ]
  },
  {
   "cell_type": "code",
   "execution_count": 52,
   "metadata": {},
   "outputs": [
    {
     "name": "stdout",
     "output_type": "stream",
     "text": [
      "[  7.8253792334948002e-10   1.5997037028370187e-11   3.6076697185194462e-13\n",
      "   1.5765166949677223e-14   3.8746783559417963e-14   5.3312909642500017e-13\n",
      "   4.6673775955241581e-13   1.9297896614034471e-12]\n"
     ]
    },
    {
     "data": {
      "image/png": "[encoded data removed]",
      "text/plain": [
       "<matplotlib.figure.Figure at 0x116063d68>"
      ]
     },
     "metadata": {},
     "output_type": "display_data"
    },
    {
     "name": "stdout",
     "output_type": "stream",
     "text": [
      "[[ 0.3327204662236625  0.                  0.                  0.                  0.\n",
      "   0.                ]\n",
      " [ 0.3330266646935343  0.333332863163406   0.                  0.                  0.\n",
      "   0.                ]\n",
      " [ 0.3331799401934177  0.3333332156933011  0.3333333332032661  0.                  0.\n",
      "   0.                ]\n",
      " [ 0.3332566220524313  0.333333303911445   0.333333333317493\n",
      "   0.3333333333338112  0.                  0.                ]\n",
      " [ 0.3332949740142794  0.3333333259761275  0.3333333333310217\n",
      "   0.3333333333329544  0.3333333333328973  0.                ]\n",
      " [ 0.3333141527546104  0.3333333314949414  0.333333333334546\n",
      "   0.3333333333350495  0.3333333333351892  0.3333333333352631]]\n"
     ]
    }
   ],
   "source": [
    "count=0\n",
    "levels=6\n",
    "h_vec=2**-np.arange(1,9,dtype=float) #vector of stepsizes\n",
    "err=np.zeros(h_vec.size) #error vector for each stepsize\n",
    "for dx in h_vec:\n",
    "    rich_m=rich(for_diff,h=dx,level=levels) #richardson\n",
    "    err[count]=np.absolute(rich_m[levels-1,levels-1]-1/3) #compute error\n",
    "    #print(rich_m) \n",
    "    count+=1\n",
    "print(err)\n",
    "plt.plot(h_vec,err)\n",
    "ax=plt.gca()\n",
    "ax.set_xlabel('Stepsize')\n",
    "ax.set_ylabel('Absolute Error')\n",
    "plt.show()\n",
    "#plot the final richardson extrapolation matrix\n",
    "print(rich_m)"
   ]
  },
  {
   "cell_type": "code",
   "execution_count": 48,
   "metadata": {},
   "outputs": [
    {
     "name": "stdout",
     "output_type": "stream",
     "text": [
      "[ 0.3327204662236625  0.333332863163406   0.3333333332032661\n",
      "  0.3333333333338112  0.3333333333328973  0.3333333333352631]\n"
     ]
    }
   ],
   "source": [
    "np.set_printoptions(precision=16)\n",
    "print(np.diag(rich_m))\n"
   ]
  },
  {
   "cell_type": "markdown",
   "metadata": {},
   "source": [
    "In an adaptive algorithm, we do not know the true solution.  There are\n",
    "two methods for constructive adaptive algorithms.  \n",
    "* The simplest, shown in this notebook, uses a predefined tolerance between subsequent levels of the Richardson Extrapolation to stop. \n",
    "* The 2nd uses asympotitic error estimates to decide at what point roundoff is starting to pollute the error estimate.  We will cover this later when discussing numerical integration."
   ]
  },
  {
   "cell_type": "code",
   "execution_count": 61,
   "metadata": {},
   "outputs": [
    {
     "name": "stdout",
     "output_type": "stream",
     "text": [
      "[[ 0.3146221736127366  0.                  0.                  0.                  0.\n",
      "   0.                ]\n",
      " [ 0.3237492852849169  0.3328763969570971  0.                  0.                  0.\n",
      "   0.                ]\n",
      " [ 0.3284826192701793  0.3332159532554417  0.3333291386882233  0.                  0.\n",
      "   0.                ]\n",
      " [ 0.3308931053127679  0.3333035913553566  0.3333328040553282\n",
      "   0.3333333276792004  0.                  0.                ]\n",
      " [ 0.3321094766738639  0.3333258480349599  0.333333266928161\n",
      "   0.3333333330528515  0.3333333334110948  0.                ]\n",
      " [ 0.3327204662236625  0.333331455773461   0.333333325019628\n",
      "   0.333333333318409   0.3333333333361129  0.3333333333336941]]\n"
     ]
    }
   ],
   "source": [
    "def adap_rich(func,h=.1,atol=1E-10,maxlevels=10):\n",
    "    rmat=np.zeros((maxlevels,maxlevels))\n",
    "    loop=0\n",
    "    tol_met=False\n",
    "    while (loop < maxlevels-1):\n",
    "        rmat[loop,0]=func(h=h)\n",
    "        h/=2\n",
    "        for loop2 in range(1,loop+1):\n",
    "            rmat[loop,loop2]=2**(loop2)*rmat[loop,loop2-1]-rmat[loop-1,loop2-1]            \n",
    "            rmat[loop,loop2]/=(2**(loop2)-1)\n",
    "            if np.absolute(rmat[loop,loop]-rmat[loop-1,loop-1]) < atol:\n",
    "                return rmat[0:loop+1,0:loop+1] #absolute tolerance should be relative\n",
    "        loop+=1\n",
    "    print('Maximum Levels Reached')               \n",
    "    return rmat\n",
    "\n",
    "rch=adap_rich(for_diff,h=.125)\n",
    "print(rch)"
   ]
  },
  {
   "cell_type": "code",
   "execution_count": 62,
   "metadata": {},
   "outputs": [
    {
     "name": "stdout",
     "output_type": "stream",
     "text": [
      "[[ 0.3146221736127366  0.                  0.                  0.                  0.\n",
      "   0.                ]\n",
      " [ 0.3237492852849169  0.3328763969570971  0.                  0.                  0.\n",
      "   0.                ]\n",
      " [ 0.3284826192701793  0.3332159532554417  0.3333291386882233  0.                  0.\n",
      "   0.                ]\n",
      " [ 0.3308931053127679  0.3333035913553566  0.3333328040553282\n",
      "   0.3333333276792004  0.                  0.                ]\n",
      " [ 0.3321094766738639  0.3333258480349599  0.333333266928161\n",
      "   0.3333333330528515  0.3333333334110948  0.                ]\n",
      " [ 0.3327204662236625  0.333331455773461   0.333333325019628\n",
      "   0.333333333318409   0.3333333333361129  0.3333333333336941]]\n"
     ]
    }
   ],
   "source": [
    "print(rch)"
   ]
  },
  {
   "cell_type": "code",
   "execution_count": null,
   "metadata": {
    "collapsed": true
   },
   "outputs": [],
   "source": []
  }
 ],
 "metadata": {
  "kernelspec": {
   "display_name": "Python [conda root]",
   "language": "python",
   "name": "conda-root-py"
  },
  "language_info": {
   "codemirror_mode": {
    "name": "ipython",
    "version": 3
   },
   "file_extension": ".py",
   "mimetype": "text/x-python",
   "name": "python",
   "nbconvert_exporter": "python",
   "pygments_lexer": "ipython3",
   "version": "3.6.1"
  }
 },
 "nbformat": 4,
 "nbformat_minor": 2
}
