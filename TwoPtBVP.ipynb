{
 "cells": [
  {
   "cell_type": "markdown",
   "metadata": {},
   "source": [
    "# Two Pt BVP Via Finite Differences\n"
   ]
  },
  {
   "cell_type": "markdown",
   "metadata": {},
   "source": [
    "If we're solving $-u_{xx}=f(u,u_x,x)$, $u(x=0)=u_0$, $u(x=1)=u_1$, \n",
    "we discretize $-u_{xx}$ via a central finite difference approximation\n",
    "at a predetermined set of grid points $x_1$, $x_2$, \\ldots, $x_n$, the points lying on the interior of $(0,1)$.  \n",
    "\n",
    "As we will see, it is often convenient to take them equispaces, such that $x_{i}-x_{i-1}=h$, $h$ fixed.  If we do this we get\n",
    "\n",
    "$$\n",
    "\\frac{2u_i-u_{i-1}-u_{i+1}}{h^2} = f(u_i,x_i).\n",
    "$$\n",
    "\n",
    "If we combine this with the known boundary values we have $n$ equations for each interior grid point.  The resulting linear algebra system (for zero BC's) looks like:\n",
    "\n",
    "$A\\in\\mathbb{R}^{n\\times n}$ is given by\n",
    "$$\n",
    "\\large A = \\left(\n",
    "                \\begin{array}{ccccc}\n",
    "                    2 & -1 & 0 & \\cdots & 0 \\\\\n",
    "                    -1 & 2 & -1 & \\ddots & \\vdots \\\\\n",
    "                    0 & \\ddots & \\ddots & \\ddots & 0 \\\\\n",
    "                    \\vdots & \\ddots & -1 & 2 & -1 \\\\\n",
    "                    0 & \\cdots & 0 & -1 & 2\n",
    "                \\end{array}\n",
    "           \\right)\n",
    "$$\n",
    "and the data vector is given by\n",
    "$$\n",
    "\\large b = h^2\\left(\n",
    "                    \\begin{array}{c} \n",
    "                        f(x_1) \\\\\n",
    "                        f(x_2) \\\\\n",
    "                        \\vdots \\\\\n",
    "                        f(x_n)\n",
    "                    \\end{array}\n",
    "                \\right).\n",
    "$$\n",
    "\n"
   ]
  },
  {
   "cell_type": "markdown",
   "metadata": {},
   "source": [
    "To test this, we pick $u=x(1-x)e^x$, so that $u_{x}=e^x(x-x^2+1-2x)$\n",
    "and $u_{xx}=e^x(1-x-x^2)+e^x(-1-2x)$ so $-u_{xx}$ simplifies to\n",
    "$e^x(3x+x^2)=f$."
   ]
  },
  {
   "cell_type": "code",
   "execution_count": 5,
   "metadata": {},
   "outputs": [
    {
     "name": "stdout",
     "output_type": "stream",
     "text": [
      "(5, 5)\n",
      "[[ 2. -1.  0.  0.  0.]\n",
      " [-1.  2. -1.  0.  0.]\n",
      " [ 0. -1.  2. -1.  0.]\n",
      " [ 0.  0. -1.  2. -1.]\n",
      " [ 0.  0.  0. -1.  2.]]\n"
     ]
    }
   ],
   "source": [
    "import numpy as np\n",
    "%matplotlib inline  \n",
    "import matplotlib.pyplot as plt\n",
    "\n",
    "n = 5\n",
    "A = np.zeros((n,n))\n",
    "print(A.shape)\n",
    "\n",
    "np.fill_diagonal(A,2)\n",
    "A += np.diag(-np.ones(n-1),k=1)\n",
    "A += np.diag(-np.ones(n-1),k=-1)\n",
    "print(A)"
   ]
  },
  {
   "cell_type": "code",
   "execution_count": 8,
   "metadata": {},
   "outputs": [
    {
     "data": {
      "image/png": "[encoded data removed]",
      "text/plain": [
       "<matplotlib.figure.Figure at 0x11c2c5c18>"
      ]
     },
     "metadata": {},
     "output_type": "display_data"
    }
   ],
   "source": [
    "x = np.linspace(0,1,n+2)\n",
    "h = x[1]-x[0]\n",
    "#b = h**2 * (3*x+x**2)*np.exp(x)\n",
    "b = h**2 * (-2+6*x)\n",
    "\n",
    "v = np.zeros(n+2)\n",
    "v[1:-1] = np.linalg.solve(A, b[1:-1]) #Numerical soln. using Gaussian elimination\n",
    "\n",
    "#u = x*(1-x)*np.exp(x) #Exact soln.\n",
    "\n",
    "pp=np.linspace(0,1,1000)\n",
    "ut=pp*(1-pp)*np.exp(pp)\n",
    "u = x**2*(1-x)\n",
    "plt.figure(1)\n",
    "plt.plot(x,v,label='Num. Soln. $v$')\n",
    "plt.plot(x,u,label='Exact Soln. $u$')\n",
    "plt.legend(loc='upper left', shadow=True)\n",
    "plt.show()"
   ]
  },
  {
   "cell_type": "markdown",
   "metadata": {},
   "source": [
    "## plt.plot(x,v-u)"
   ]
  },
  {
   "cell_type": "code",
   "execution_count": 3,
   "metadata": {},
   "outputs": [
    {
     "name": "stdout",
     "output_type": "stream",
     "text": [
      "   n    &    h     &      E_h     &   Rate of Conv. \\\\ \\hline\n",
      "   5    &   0.167  & 0.00588534   &            \\\\\n",
      "  10    &   0.091  & 0.00178473   &   1.9685   \\\\\n",
      "  20    &   0.048  & 0.00049105   &   1.9957   \\\\\n",
      "  40    &   0.024  & 0.00012883   &   1.9999   \\\\\n",
      "  80    &   0.012  & 0.00003302   &   1.9996   \\\\\n"
     ]
    },
    {
     "data": {
      "image/png": "[encoded data removed]",
      "text/plain": [
       "<matplotlib.figure.Figure at 0x11a798b70>"
      ]
     },
     "metadata": {},
     "output_type": "display_data"
    }
   ],
   "source": [
    "n = [5, 10, 20, 40, 80]\n",
    "E_h = np.zeros(5)\n",
    "h = np.zeros(5)\n",
    "alpha_h = np.zeros(5)\n",
    "\n",
    "count = 0\n",
    "print('   n    &    h     &      E_h     &   Rate of Conv. ' + r'\\\\ \\hline')\n",
    "for n in n:\n",
    "    A = np.zeros((n,n))\n",
    "    np.fill_diagonal(A,2)\n",
    "    A += np.diag(-np.ones(n-1),k=1)\n",
    "    A += np.diag(-np.ones(n-1),k=-1)\n",
    "    \n",
    "    x = np.linspace(0,1,n+2)\n",
    "    h[count] = x[1]-x[0]\n",
    "    b = h[count]**2 * (3*x+x**2)*np.exp(x)\n",
    "\n",
    "    v = np.zeros(n+2)\n",
    "    v[1:-1] = np.linalg.solve(A, b[1:-1]) #Numerical soln. using Gaussian elimination\n",
    "\n",
    "    u = x*(1-x)*np.exp(x) #Exact soln.\n",
    "    \n",
    "    E_h[count] = np.max(np.abs(u-v))\n",
    "    \n",
    "    if count == 0:\n",
    "        print(' %3d    &   %.3f  & %.8f   &         ' % (n, h[count], E_h[count]) + r'   \\\\')\n",
    "    else:\n",
    "        alpha_h[count] = np.log(E_h[count]/E_h[count-1])/np.log(h[count]/h[count-1])\n",
    "        print(' %3d    &   %.3f  & %.8f   &   %.4f ' % (n, h[count], E_h[count], alpha_h[count]) + r'  \\\\')\n",
    "    \n",
    "    count +=1\n",
    "plt.loglog(h,E_h)\n",
    "plt.show()"
   ]
  },
  {
   "cell_type": "markdown",
   "metadata": {},
   "source": [
    "##  Discrete Error Measures: \n",
    "\n",
    "Let's define a function for computing the discrete inner product for functions just based on grid values.  Note that this is precisely the trapezoidal rule applied to \n",
    "$$\n",
    "\\int_0^1 u(x) v(x) \\; dx\n",
    "$$\n",
    "using the grid points to define the intervals."
   ]
  },
  {
   "cell_type": "code",
   "execution_count": 4,
   "metadata": {
    "collapsed": true
   },
   "outputs": [],
   "source": [
    "def inner_h(u,v,h):\n",
    "    z = h * (u[0]*v[0] + u[-1]*v[-1])/2.0 + h*np.dot(u[1:-1],v[1:-1])\n",
    "    return z"
   ]
  },
  {
   "cell_type": "markdown",
   "metadata": {},
   "source": [
    "Note that the corresponding norm $\\| u_h \\|$ is simply $\\sqrt{<u_h,u_h>_h}$.  "
   ]
  },
  {
   "cell_type": "code",
   "execution_count": null,
   "metadata": {
    "collapsed": true
   },
   "outputs": [],
   "source": []
  },
  {
   "cell_type": "code",
   "execution_count": null,
   "metadata": {
    "collapsed": true
   },
   "outputs": [],
   "source": []
  }
 ],
 "metadata": {
  "anaconda-cloud": {},
  "kernelspec": {
   "display_name": "Python [conda root]",
   "language": "python",
   "name": "conda-root-py"
  },
  "language_info": {
   "codemirror_mode": {
    "name": "ipython",
    "version": 3
   },
   "file_extension": ".py",
   "mimetype": "text/x-python",
   "name": "python",
   "nbconvert_exporter": "python",
   "pygments_lexer": "ipython3",
   "version": "3.6.1"
  }
 },
 "nbformat": 4,
 "nbformat_minor": 1
}
