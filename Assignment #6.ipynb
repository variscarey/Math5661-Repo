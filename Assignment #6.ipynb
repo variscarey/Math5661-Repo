{
 "cells": [
  {
   "cell_type": "markdown",
   "metadata": {},
   "source": [
    "# Assignment #6"
   ]
  },
  {
   "cell_type": "markdown",
   "metadata": {},
   "source": [
    "## 1 : Implicit Time Integrators\n",
    "\n",
    "Most resources recommend the BDF family of integrators for *stiff* problems.  Explain why by comparing Adams-Moulton 3 and the BDF-3 time integrator(you do not have to derive them, just look them up).\n",
    "* What is the global accuracy of these methods as a power of the timestep $h$(use them on a suitable linear test problem $\\dot{y}=\\lambda y$)\n",
    "* What are the corresponding regions of stability?  Is either method A-stable?\n",
    "* Verify that BDF 3 is zero-stable.\n",
    "\n"
   ]
  },
  {
   "cell_type": "markdown",
   "metadata": {},
   "source": [
    "## 2: BDF 6 is the limit. \n",
    "\n",
    "Construct the interpolating polynomial for $y_{n},\\ldots,y_{n-7}$ as a function of $t$.  Prove that this method is **not** zero-stable using the derivative of the polynomial.  You may do this numerically or computationally.  You will probably want to use a symbolic manipulator to help you.\n",
    "\n",
    "\n",
    "\n"
   ]
  },
  {
   "cell_type": "code",
   "execution_count": null,
   "metadata": {
    "collapsed": true
   },
   "outputs": [],
   "source": []
  }
 ],
 "metadata": {
  "kernelspec": {
   "display_name": "Python [conda root]",
   "language": "python",
   "name": "conda-root-py"
  },
  "language_info": {
   "codemirror_mode": {
    "name": "ipython",
    "version": 3
   },
   "file_extension": ".py",
   "mimetype": "text/x-python",
   "name": "python",
   "nbconvert_exporter": "python",
   "pygments_lexer": "ipython3",
   "version": "3.6.1"
  }
 },
 "nbformat": 4,
 "nbformat_minor": 2
}
